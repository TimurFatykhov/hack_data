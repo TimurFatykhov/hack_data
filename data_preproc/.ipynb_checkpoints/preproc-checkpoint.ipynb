{
 "cells": [
  {
   "cell_type": "code",
   "execution_count": 41,
   "metadata": {
    "colab": {
     "base_uri": "https://localhost:8080/",
     "height": 38,
     "resources": {
      "http://localhost:8080/nbextensions/google.colab/files.js": {
       "data": "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",
       "headers": [
        [
         "content-type",
         "application/javascript"
        ]
       ],
       "ok": true,
       "status": 200,
       "status_text": ""
      }
     }
    },
    "colab_type": "code",
    "id": "3YwWaP83JSQb",
    "outputId": "22daca84-961b-4921-d384-0e6ee942acea"
   },
   "outputs": [
    {
     "data": {
      "text/html": [
       "\n",
       "     <input type=\"file\" id=\"files-f8f4682c-e823-4de7-ad89-4eb7c21969cc\" name=\"files[]\" multiple disabled />\n",
       "     <output id=\"result-f8f4682c-e823-4de7-ad89-4eb7c21969cc\">\n",
       "      Upload widget is only available when the cell has been executed in the\n",
       "      current browser session. Please rerun this cell to enable.\n",
       "      </output>\n",
       "      <script src=\"/nbextensions/google.colab/files.js\"></script> "
      ],
      "text/plain": [
       "<IPython.core.display.HTML object>"
      ]
     },
     "metadata": {
      "tags": []
     },
     "output_type": "display_data"
    }
   ],
   "source": [
    "from google.colab import files\n",
    "\n",
    "uploaded = files.upload()\n",
    "\n",
    "for fn in uploaded.keys():\n",
    "  print('User uploaded file \"{name}\" with length {length} bytes'.format(\n",
    "      name=fn, length=len(uploaded[fn])))"
   ]
  },
  {
   "cell_type": "code",
   "execution_count": 0,
   "metadata": {
    "colab": {},
    "colab_type": "code",
    "collapsed": true,
    "id": "CEJtH6JNJnpL"
   },
   "outputs": [],
   "source": [
    "import pandas as pd\n",
    "import numpy as np"
   ]
  },
  {
   "cell_type": "code",
   "execution_count": 45,
   "metadata": {
    "colab": {
     "base_uri": "https://localhost:8080/",
     "height": 204
    },
    "colab_type": "code",
    "id": "395YqD3qJ12h",
    "outputId": "9df60c06-d04e-445a-deeb-576d5f912fa9"
   },
   "outputs": [
    {
     "data": {
      "text/html": [
       "<div>\n",
       "<style scoped>\n",
       "    .dataframe tbody tr th:only-of-type {\n",
       "        vertical-align: middle;\n",
       "    }\n",
       "\n",
       "    .dataframe tbody tr th {\n",
       "        vertical-align: top;\n",
       "    }\n",
       "\n",
       "    .dataframe thead th {\n",
       "        text-align: right;\n",
       "    }\n",
       "</style>\n",
       "<table border=\"1\" class=\"dataframe\">\n",
       "  <thead>\n",
       "    <tr style=\"text-align: right;\">\n",
       "      <th></th>\n",
       "      <th>RGB</th>\n",
       "      <th>area</th>\n",
       "      <th>cont</th>\n",
       "    </tr>\n",
       "  </thead>\n",
       "  <tbody>\n",
       "    <tr>\n",
       "      <th>0</th>\n",
       "      <td>[241.1314378774513, 203.47852344439167, 63.040...</td>\n",
       "      <td>15658.0</td>\n",
       "      <td>[[150  44 149  45 145  45 144  46 141  46 140 ...</td>\n",
       "    </tr>\n",
       "    <tr>\n",
       "      <th>1</th>\n",
       "      <td>[254.60717009916092, 250.13857106534451, 66.78...</td>\n",
       "      <td>8544.0</td>\n",
       "      <td>[[160  62 159  63 152  63 151  64 147  64 146 ...</td>\n",
       "    </tr>\n",
       "    <tr>\n",
       "      <th>2</th>\n",
       "      <td>[254.35055663117134, 253.98184898354307, 87.08...</td>\n",
       "      <td>8953.0</td>\n",
       "      <td>[[147  70 146  71 144  71 143  72 141  72 140 ...</td>\n",
       "    </tr>\n",
       "    <tr>\n",
       "      <th>3</th>\n",
       "      <td>[254.26767063395678, 254.75564731600682, 150.6...</td>\n",
       "      <td>8932.5</td>\n",
       "      <td>[[151  65 150  66 142  66 141  67 140  67 139 ...</td>\n",
       "    </tr>\n",
       "    <tr>\n",
       "      <th>4</th>\n",
       "      <td>[254.81339352896913, 254.93679458239274, 217.9...</td>\n",
       "      <td>8652.0</td>\n",
       "      <td>[[145  74 144  75 140  75 139  76 137  76 136 ...</td>\n",
       "    </tr>\n",
       "  </tbody>\n",
       "</table>\n",
       "</div>"
      ],
      "text/plain": [
       "                                                 RGB     area  \\\n",
       "0  [241.1314378774513, 203.47852344439167, 63.040...  15658.0   \n",
       "1  [254.60717009916092, 250.13857106534451, 66.78...   8544.0   \n",
       "2  [254.35055663117134, 253.98184898354307, 87.08...   8953.0   \n",
       "3  [254.26767063395678, 254.75564731600682, 150.6...   8932.5   \n",
       "4  [254.81339352896913, 254.93679458239274, 217.9...   8652.0   \n",
       "\n",
       "                                                cont  \n",
       "0  [[150  44 149  45 145  45 144  46 141  46 140 ...  \n",
       "1  [[160  62 159  63 152  63 151  64 147  64 146 ...  \n",
       "2  [[147  70 146  71 144  71 143  72 141  72 140 ...  \n",
       "3  [[151  65 150  66 142  66 141  67 140  67 139 ...  \n",
       "4  [[145  74 144  75 140  75 139  76 137  76 136 ...  "
      ]
     },
     "execution_count": 45,
     "metadata": {
      "tags": []
     },
     "output_type": "execute_result"
    }
   ],
   "source": [
    "blue = pd.read_csv('blue.csv')\n",
    "green = pd.read_csv('green.csv')\n",
    "yellow = pd.read_csv('yellow.csv')\n",
    "red = pd.read_csv('red.csv')\n",
    "white = pd.read_csv('white.csv')\n",
    "orange = pd.read_csv('orange.csv')\n",
    "rubbish = pd.read_csv('rubbish.csv')\n",
    "\n",
    "# посмотим на данные и увидим, насколько они \"грязные\"\n",
    "blue.head()"
   ]
  },
  {
   "cell_type": "code",
   "execution_count": 46,
   "metadata": {
    "colab": {
     "base_uri": "https://localhost:8080/",
     "height": 34
    },
    "colab_type": "code",
    "id": "e70SEGxFKk3_",
    "outputId": "d56098ec-65ce-447a-dbe5-0fa5e853d45c"
   },
   "outputs": [
    {
     "data": {
      "text/plain": [
       "(91, 3)"
      ]
     },
     "execution_count": 46,
     "metadata": {
      "tags": []
     },
     "output_type": "execute_result"
    }
   ],
   "source": [
    "# соедими наши данные вместе в один большой DataFrame\n",
    "df = pd.concat([blue, green, yellow, red, white, orange, rubbish], axis=0)\n",
    "\n",
    "# посмотрим на \"фигуру\" нашего датасета\n",
    "df.shape"
   ]
  },
  {
   "cell_type": "code",
   "execution_count": 0,
   "metadata": {
    "colab": {},
    "colab_type": "code",
    "collapsed": true,
    "id": "qvC4JTvoKnSY"
   },
   "outputs": [],
   "source": [
    "# определим функцию, которая будет строку с RGB превращать в питоновский список список \n",
    "def getSepRGB(s):\n",
    "  return s.strip('[]').replace(' ', '').split(',')"
   ]
  },
  {
   "cell_type": "code",
   "execution_count": 49,
   "metadata": {
    "colab": {
     "base_uri": "https://localhost:8080/",
     "height": 80
    },
    "colab_type": "code",
    "id": "Nd2pdvHNLD2f",
    "outputId": "8c5f89ea-04c7-4b67-e927-9421675f67de"
   },
   "outputs": [
    {
     "data": {
      "text/html": [
       "<div>\n",
       "<style scoped>\n",
       "    .dataframe tbody tr th:only-of-type {\n",
       "        vertical-align: middle;\n",
       "    }\n",
       "\n",
       "    .dataframe tbody tr th {\n",
       "        vertical-align: top;\n",
       "    }\n",
       "\n",
       "    .dataframe thead th {\n",
       "        text-align: right;\n",
       "    }\n",
       "</style>\n",
       "<table border=\"1\" class=\"dataframe\">\n",
       "  <thead>\n",
       "    <tr style=\"text-align: right;\">\n",
       "      <th></th>\n",
       "      <th>area</th>\n",
       "      <th>cont</th>\n",
       "      <th>R</th>\n",
       "      <th>G</th>\n",
       "      <th>B</th>\n",
       "    </tr>\n",
       "  </thead>\n",
       "  <tbody>\n",
       "    <tr>\n",
       "      <th>0</th>\n",
       "      <td>15658.0</td>\n",
       "      <td>[[150  44 149  45 145  45 144  46 141  46 140 ...</td>\n",
       "      <td>241</td>\n",
       "      <td>203</td>\n",
       "      <td>63</td>\n",
       "    </tr>\n",
       "  </tbody>\n",
       "</table>\n",
       "</div>"
      ],
      "text/plain": [
       "      area                                               cont    R    G   B\n",
       "0  15658.0  [[150  44 149  45 145  45 144  46 141  46 140 ...  241  203  63"
      ]
     },
     "execution_count": 49,
     "metadata": {
      "tags": []
     },
     "output_type": "execute_result"
    }
   ],
   "source": [
    "# применим нашу новую функцию к столбцу RGB несколько раз\n",
    "# и разделим компоненты по столбцам: R G B\n",
    "df['R'] = df['RGB'].apply(lambda x: int(float(getSepRGB(x)[0])))\n",
    "df['G'] = df['RGB'].apply(lambda x: int(float(getSepRGB(x)[1])))\n",
    "df['B'] = df['RGB'].apply(lambda x: int(float(getSepRGB(x)[2])))\n",
    "\n",
    "# удаляем столбец с RGB (больше он не нужен)\n",
    "df.drop('RGB', axis=1, inplace=True)\n",
    "\n",
    "# посмотрим что получилось\n",
    "df.head(1)"
   ]
  },
  {
   "cell_type": "code",
   "execution_count": 50,
   "metadata": {
    "colab": {
     "base_uri": "https://localhost:8080/",
     "height": 80
    },
    "colab_type": "code",
    "id": "TDLSWAVBNkg6",
    "outputId": "261fb52a-1ccf-4f23-c53e-78bd7080a11f"
   },
   "outputs": [
    {
     "data": {
      "text/html": [
       "<div>\n",
       "<style scoped>\n",
       "    .dataframe tbody tr th:only-of-type {\n",
       "        vertical-align: middle;\n",
       "    }\n",
       "\n",
       "    .dataframe tbody tr th {\n",
       "        vertical-align: top;\n",
       "    }\n",
       "\n",
       "    .dataframe thead th {\n",
       "        text-align: right;\n",
       "    }\n",
       "</style>\n",
       "<table border=\"1\" class=\"dataframe\">\n",
       "  <thead>\n",
       "    <tr style=\"text-align: right;\">\n",
       "      <th></th>\n",
       "      <th>area</th>\n",
       "      <th>cont</th>\n",
       "      <th>R</th>\n",
       "      <th>G</th>\n",
       "      <th>B</th>\n",
       "    </tr>\n",
       "  </thead>\n",
       "  <tbody>\n",
       "    <tr>\n",
       "      <th>0</th>\n",
       "      <td>15658</td>\n",
       "      <td>150  44 149  45 145  45 144  46 141  46 140  4...</td>\n",
       "      <td>241</td>\n",
       "      <td>203</td>\n",
       "      <td>63</td>\n",
       "    </tr>\n",
       "  </tbody>\n",
       "</table>\n",
       "</div>"
      ],
      "text/plain": [
       "    area                                               cont    R    G   B\n",
       "0  15658  150  44 149  45 145  45 144  46 141  46 140  4...  241  203  63"
      ]
     },
     "execution_count": 50,
     "metadata": {
      "tags": []
     },
     "output_type": "execute_result"
    }
   ],
   "source": [
    "# теперь чуть-чуть преобразим cont, убрав с боков квадратные скобки\n",
    "# и еще вишенкой на торте будет преобразование area к типу int\n",
    "\n",
    "df['cont'] = df['cont'].apply(lambda x: x.strip('[]'))\n",
    "df['area'] = df['area'].apply(int)\n",
    "\n",
    "# посмотрим что получилось\n",
    "df.head(1)"
   ]
  },
  {
   "cell_type": "code",
   "execution_count": 0,
   "metadata": {
    "colab": {},
    "colab_type": "code",
    "collapsed": true,
    "id": "aVWyYLcNNorS"
   },
   "outputs": [],
   "source": [
    "# напишем функцию, которая будет строку cont превращать в координаты\n",
    "# и с помощью np.array.reshape() приведем координаты к виду\n",
    "#  [ [242,123], \n",
    "#     [125,31] , \n",
    "#     [147,54] , \n",
    "#     ...        ]\n",
    "def getCoordAsArray(s):\n",
    "  return np.array(s.replace('\\n', '').replace('  ', ' ').replace('  ', ' ').split(' ')).reshape(-1, 2)"
   ]
  },
  {
   "cell_type": "code",
   "execution_count": 79,
   "metadata": {
    "colab": {
     "base_uri": "https://localhost:8080/",
     "height": 3451
    },
    "colab_type": "code",
    "id": "NUSkpGQHOR6Z",
    "outputId": "23051da4-adbd-4843-b5dc-683b44b74561"
   },
   "outputs": [
    {
     "data": {
      "text/plain": [
       "array([['150', '44'],\n",
       "       ['149', '45'],\n",
       "       ['145', '45'],\n",
       "       ['144', '46'],\n",
       "       ['141', '46'],\n",
       "       ['140', '47'],\n",
       "       ['138', '47'],\n",
       "       ['137', '48'],\n",
       "       ['135', '48'],\n",
       "       ['134', '49'],\n",
       "       ['132', '49'],\n",
       "       ['131', '50'],\n",
       "       ['130', '50'],\n",
       "       ['129', '51'],\n",
       "       ['128', '51'],\n",
       "       ['127', '52'],\n",
       "       ['126', '52'],\n",
       "       ['125', '53'],\n",
       "       ['124', '53'],\n",
       "       ['122', '55'],\n",
       "       ['121', '55'],\n",
       "       ['119', '57'],\n",
       "       ['118', '57'],\n",
       "       ['113', '62'],\n",
       "       ['112', '62'],\n",
       "       ['107', '67'],\n",
       "       ['107', '68'],\n",
       "       ['103', '72'],\n",
       "       ['103', '73'],\n",
       "       ['101', '75'],\n",
       "       ['101', '76'],\n",
       "       ['99', '78'],\n",
       "       ['99', '79'],\n",
       "       ['98', '80'],\n",
       "       ['98', '81'],\n",
       "       ['97', '82'],\n",
       "       ['97', '83'],\n",
       "       ['96', '84'],\n",
       "       ['96', '85'],\n",
       "       ['95', '86'],\n",
       "       ['95', '87'],\n",
       "       ['94', '88'],\n",
       "       ['94', '90'],\n",
       "       ['93', '91'],\n",
       "       ['93', '93'],\n",
       "       ['92', '94'],\n",
       "       ['92', '97'],\n",
       "       ['91', '98'],\n",
       "       ['91', '101'],\n",
       "       ['90', '102'],\n",
       "       ['90', '108'],\n",
       "       ['89', '109'],\n",
       "       ['89', '120'],\n",
       "       ['90', '121'],\n",
       "       ['90', '127'],\n",
       "       ['91', '128'],\n",
       "       ['91', '132'],\n",
       "       ['92', '133'],\n",
       "       ['92', '135'],\n",
       "       ['93', '136'],\n",
       "       ['93', '138'],\n",
       "       ['94', '139'],\n",
       "       ['94', '141'],\n",
       "       ['95', '142'],\n",
       "       ['95', '143'],\n",
       "       ['96', '144'],\n",
       "       ['96', '145'],\n",
       "       ['97', '146'],\n",
       "       ['97', '147'],\n",
       "       ['98', '148'],\n",
       "       ['98', '149'],\n",
       "       ['100', '151'],\n",
       "       ['100', '152'],\n",
       "       ['102', '154'],\n",
       "       ['102', '155'],\n",
       "       ['104', '157'],\n",
       "       ['104', '158'],\n",
       "       ['115', '169'],\n",
       "       ['116', '169'],\n",
       "       ['119', '172'],\n",
       "       ['120', '172'],\n",
       "       ['122', '174'],\n",
       "       ['123', '174'],\n",
       "       ['124', '175'],\n",
       "       ['125', '175'],\n",
       "       ['127', '177'],\n",
       "       ['129', '177'],\n",
       "       ['131', '179'],\n",
       "       ['133', '179'],\n",
       "       ['134', '180'],\n",
       "       ['136', '180'],\n",
       "       ['137', '181'],\n",
       "       ['139', '181'],\n",
       "       ['140', '182'],\n",
       "       ['143', '182'],\n",
       "       ['144', '183'],\n",
       "       ['148', '183'],\n",
       "       ['149', '184'],\n",
       "       ['159', '184'],\n",
       "       ['160', '185'],\n",
       "       ['161', '185'],\n",
       "       ['162', '184'],\n",
       "       ['171', '184'],\n",
       "       ['172', '183'],\n",
       "       ['176', '183'],\n",
       "       ['177', '182'],\n",
       "       ['180', '182'],\n",
       "       ['181', '181'],\n",
       "       ['183', '181'],\n",
       "       ['184', '180'],\n",
       "       ['186', '180'],\n",
       "       ['187', '179'],\n",
       "       ['188', '179'],\n",
       "       ['189', '178'],\n",
       "       ['190', '178'],\n",
       "       ['191', '177'],\n",
       "       ['192', '177'],\n",
       "       ['193', '176'],\n",
       "       ['194', '176'],\n",
       "       ['195', '175'],\n",
       "       ['196', '175'],\n",
       "       ['197', '174'],\n",
       "       ['198', '174'],\n",
       "       ['200', '172'],\n",
       "       ['201', '172'],\n",
       "       ['205', '168'],\n",
       "       ['206', '168'],\n",
       "       ['215', '159'],\n",
       "       ['215', '158'],\n",
       "       ['218', '155'],\n",
       "       ['218', '154'],\n",
       "       ['220', '152'],\n",
       "       ['220', '151'],\n",
       "       ['222', '149'],\n",
       "       ['222', '148'],\n",
       "       ['223', '147'],\n",
       "       ['223', '146'],\n",
       "       ['224', '145'],\n",
       "       ['224', '144'],\n",
       "       ['225', '143'],\n",
       "       ['225', '141'],\n",
       "       ['226', '140'],\n",
       "       ['226', '139'],\n",
       "       ['227', '138'],\n",
       "       ['227', '136'],\n",
       "       ['228', '135'],\n",
       "       ['228', '132'],\n",
       "       ['229', '131'],\n",
       "       ['229', '128'],\n",
       "       ['230', '127'],\n",
       "       ['230', '120'],\n",
       "       ['231', '119'],\n",
       "       ['231', '110'],\n",
       "       ['230', '109'],\n",
       "       ['230', '102'],\n",
       "       ['229', '101'],\n",
       "       ['229', '97'],\n",
       "       ['228', '96'],\n",
       "       ['228', '94'],\n",
       "       ['227', '93'],\n",
       "       ['227', '91'],\n",
       "       ['226', '90'],\n",
       "       ['226', '88'],\n",
       "       ['225', '87'],\n",
       "       ['225', '86'],\n",
       "       ['224', '85'],\n",
       "       ['224', '83'],\n",
       "       ['222', '81'],\n",
       "       ['222', '80'],\n",
       "       ['221', '79'],\n",
       "       ['221', '78'],\n",
       "       ['219', '76'],\n",
       "       ['219', '75'],\n",
       "       ['217', '73'],\n",
       "       ['217', '72'],\n",
       "       ['214', '69'],\n",
       "       ['214', '68'],\n",
       "       ['207', '61'],\n",
       "       ['206', '61'],\n",
       "       ['202', '57'],\n",
       "       ['201', '57'],\n",
       "       ['199', '55'],\n",
       "       ['198', '55'],\n",
       "       ['197', '54'],\n",
       "       ['196', '54'],\n",
       "       ['194', '52'],\n",
       "       ['193', '52'],\n",
       "       ['192', '51'],\n",
       "       ['191', '51'],\n",
       "       ['190', '50'],\n",
       "       ['189', '50'],\n",
       "       ['188', '49'],\n",
       "       ['186', '49'],\n",
       "       ['185', '48'],\n",
       "       ['184', '48'],\n",
       "       ['183', '47'],\n",
       "       ['181', '47'],\n",
       "       ['180', '46'],\n",
       "       ['177', '46'],\n",
       "       ['176', '45'],\n",
       "       ['171', '45'],\n",
       "       ['170', '44']], dtype='<U3')"
      ]
     },
     "execution_count": 79,
     "metadata": {
      "tags": []
     },
     "output_type": "execute_result"
    }
   ],
   "source": [
    "# проверим ее работу\n",
    "# также по значениям проверим, похоже ли на правду\n",
    "getCoordAsArray(df['cont'].iloc[0])"
   ]
  },
  {
   "cell_type": "code",
   "execution_count": 0,
   "metadata": {
    "colab": {},
    "colab_type": "code",
    "collapsed": true,
    "id": "0FWITDWlR4Ci"
   },
   "outputs": [],
   "source": []
  }
 ],
 "metadata": {
  "colab": {
   "name": "Untitled2.ipynb",
   "provenance": [],
   "version": "0.3.2"
  },
  "kernelspec": {
   "display_name": "Python 3",
   "language": "python",
   "name": "python3"
  },
  "language_info": {
   "codemirror_mode": {
    "name": "ipython",
    "version": 3
   },
   "file_extension": ".py",
   "mimetype": "text/x-python",
   "name": "python",
   "nbconvert_exporter": "python",
   "pygments_lexer": "ipython3",
   "version": "3.6.3"
  },
  "latex_envs": {
   "LaTeX_envs_menu_present": true,
   "autocomplete": true,
   "bibliofile": "biblio.bib",
   "cite_by": "apalike",
   "current_citInitial": 1,
   "eqLabelWithNumbers": true,
   "eqNumInitial": 1,
   "hotkeys": {
    "equation": "Ctrl-E",
    "itemize": "Ctrl-I"
   },
   "labels_anchors": false,
   "latex_user_defs": false,
   "report_style_numbering": false,
   "user_envs_cfg": false
  }
 },
 "nbformat": 4,
 "nbformat_minor": 1
}
